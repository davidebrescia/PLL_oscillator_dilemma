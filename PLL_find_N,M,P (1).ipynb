{
  "nbformat": 4,
  "nbformat_minor": 0,
  "metadata": {
    "colab": {
      "name": "PLL find N,M,P.ipynb",
      "provenance": [],
      "collapsed_sections": []
    },
    "kernelspec": {
      "name": "python3",
      "display_name": "Python 3"
    },
    "language_info": {
      "name": "python"
    }
  },
  "cells": [
    {
      "cell_type": "markdown",
      "metadata": {
        "id": "N4YA_7bYoBRT"
      },
      "source": [
        "f = 100 * N / (M * P), where N, M, P are integers, and: <br /> \n",
        "1 ≤ N ≤ 4095 <br /> \n",
        "1 ≤ M ≤ 511 <br /> \n",
        "1 ≤ P ≤ 127 <br /> \n",
        "Given \"f_user\", find best triplet (N, M, P) that minimizes |f_user - f|"
      ]
    },
    {
      "cell_type": "code",
      "metadata": {
        "id": "POzf_se5GB1U"
      },
      "source": [
        "import numpy as np\n",
        "from datetime import datetime"
      ],
      "execution_count": 1,
      "outputs": []
    },
    {
      "cell_type": "code",
      "metadata": {
        "id": "FIee87VGGHkv"
      },
      "source": [
        "def generate_q_values():\n",
        "\n",
        "  arr = np.zeros([2, 511*127 +1], dtype=np.uint16)\n",
        "\n",
        "  for m in range(1,511 +1):\n",
        "    for p in range(127, 0, -1):\n",
        "      arr[0, m*p] = m\n",
        "      arr[1, m*p] = p\n",
        "\n",
        "  q = []\n",
        "  for i in range(0, 511*127 +1):\n",
        "    if arr[0,i] > 0:\n",
        "      q.append([i, arr[0,i], arr[1,i]])\n",
        "  \n",
        "  return q"
      ],
      "execution_count": 2,
      "outputs": []
    },
    {
      "cell_type": "code",
      "metadata": {
        "id": "Bap0FPD4PFAW"
      },
      "source": [
        "def find_n_m_p(f_user, q):\n",
        "\n",
        "  fr = f_user / 100.\n",
        "  errors = []\n",
        "\n",
        "  for i in range(len(q)):\n",
        "    den = q[i][0]\n",
        "    num_theorical = den * fr\n",
        "    num_proposed = round(num_theorical)\n",
        "\n",
        "    if num_proposed > 4095:\n",
        "      break\n",
        "\n",
        "    error = abs(num_proposed - num_theorical) / den\n",
        "\n",
        "    if error == 0:\n",
        "      return num_proposed, q[i][1], q[i][2], 100*num_proposed / (q[i][1] * q[i][2])\n",
        "    else:\n",
        "      errors.append([error, num_proposed, q[i][1], q[i][2] ])\n",
        "  \n",
        "  # Find minimum error in errors\n",
        "\n",
        "  min_error = min(errors)\n",
        "  \n",
        "  if type(min_error[0] == int):\n",
        "    return min_error[1], min_error[2], min_error[3], 100*min_error[1]/(min_error[2]*min_error[3])\n",
        "  else:\n",
        "    return min_error[0][1], min_error[0][2], min_error[0][3], 100*min_error[0][1]/(min_error[0][2]*min_error[0][3])\n"
      ],
      "execution_count": 3,
      "outputs": []
    },
    {
      "cell_type": "code",
      "metadata": {
        "colab": {
          "base_uri": "https://localhost:8080/"
        },
        "id": "BvA1_9SjKbNy",
        "outputId": "f20b555b-7938-4002-9989-83f34874ca00"
      },
      "source": [
        "f_user = 99.27\n",
        "\n",
        "before = datetime.now()\n",
        "\n",
        "q = generate_q_values()\n",
        "n, m, p, f_effective = find_n_m_p(f_user, q) \n",
        "\n",
        "after = datetime.now()\n",
        "\n",
        "print(\"f_user =\", f_user, \"\\nn =\", n, \"\\nm =\", m, \"\\np =\", p, \"\\nf_effective =\", f_effective)\n",
        "print(\"\\nexecution time:\", after - before)"
      ],
      "execution_count": 12,
      "outputs": [
        {
          "output_type": "stream",
          "name": "stdout",
          "text": [
            "f_user = 99.27 \n",
            "n = 1224 \n",
            "m = 411 \n",
            "p = 3 \n",
            "f_effective = 99.27007299270073\n",
            "\n",
            "execution time: 0:00:00.165810\n"
          ]
        }
      ]
    }
  ]
}